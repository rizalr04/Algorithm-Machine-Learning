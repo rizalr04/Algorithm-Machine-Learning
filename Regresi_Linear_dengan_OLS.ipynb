{
  "nbformat": 4,
  "nbformat_minor": 0,
  "metadata": {
    "colab": {
      "name": "Regresi Linear dengan OLS",
      "provenance": [],
      "collapsed_sections": [],
      "authorship_tag": "ABX9TyNLuEoDLS/hOafy1QfxG7Lv",
      "include_colab_link": true
    },
    "kernelspec": {
      "name": "python3",
      "display_name": "Python 3"
    },
    "language_info": {
      "name": "python"
    }
  },
  "cells": [
    {
      "cell_type": "markdown",
      "metadata": {
        "id": "view-in-github",
        "colab_type": "text"
      },
      "source": [
        "<a href=\"https://colab.research.google.com/github/rizalr04/Algorithm-Machine-Learning/blob/main/Regresi_Linear_dengan_OLS.ipynb\" target=\"_parent\"><img src=\"https://colab.research.google.com/assets/colab-badge.svg\" alt=\"Open In Colab\"/></a>"
      ]
    },
    {
      "cell_type": "markdown",
      "metadata": {
        "id": "-e--QOGSSOG4"
      },
      "source": [
        "#Regresi Linear Python From Scratch\n",
        "##Membangun Model Regresi Linear\n",
        "Pertama, import library python yang dibutuhkan yaitu:\n",
        "* Numpy\n",
        "* Pandas\n",
        "* Matplotlib"
      ]
    },
    {
      "cell_type": "code",
      "metadata": {
        "id": "W3NH3u-XJwZf"
      },
      "source": [
        "import numpy as np\n",
        "import pandas as pd\n",
        "import matplotlib.pyplot as plt\n",
        "from sklearn.model_selection import train_test_split\n",
        "%matplotlib inline"
      ],
      "execution_count": 1,
      "outputs": []
    },
    {
      "cell_type": "markdown",
      "metadata": {
        "id": "4WgIgHg0TBGZ"
      },
      "source": [
        "Untuk memahami konsep, kita akan menggunakan data X dan Y seperti yang kita tunjukkan pada proses\n",
        "penghitungan manual."
      ]
    },
    {
      "cell_type": "code",
      "metadata": {
        "colab": {
          "base_uri": "https://localhost:8080/"
        },
        "id": "Hqa9oRc-S_fK",
        "outputId": "3b1c2f0c-6840-4c64-bbae-d27228836c71"
      },
      "source": [
        "X_train=np.array([1, 3, 5, 6, 7, 8])\n",
        "y_train=np.array([1, 5, 9, 11, 13, 15])\n",
        "\n",
        "# Proses Training Model\n",
        "\n",
        "# Menghitung rata-rata inputs and outputs\n",
        "x_rata2 = np.mean(X_train)\n",
        "print(\"Rata-rata X:\", x_rata2)\n",
        "y_rata2 = np.mean(y_train)\n",
        "print(\"Rata-rata Y:\", y_rata2)\n",
        "\n",
        "# Jumlah data\n",
        "n = len(X_train)\n",
        "print(\"Jumlah data(n):\", y_rata2)\n",
        "\n",
        "# Menuliskan formula untuk menghitung beta 0 dan beta 1\n",
        "A = 0\n",
        "B = 0\n",
        "for i in range(n):\n",
        "  a = (X_train[i] - x_rata2) * (y_train[i] - y_rata2)\n",
        "  print(\"(\",X_train[i], \"-\", x_rata2, \")\", \"*\", \"(\", y_train[i], \"-\", y_rata2, \") =\", a )\n",
        "  A += a\n",
        "  b = (X_train[i] - x_rata2) ** 2\n",
        "  print(\"(\", X_train[i], \"-\", x_rata2, \")\", \"^2\", \" =\", b )\n",
        "  B += b\n",
        "  \n",
        "print(\"Pembilang =\", A)\n",
        "print(\"Penyebut =\", B)\n",
        "\n",
        "# Menampilkan Koefisien Regresi Linear\n",
        "b_1 = A / B\n",
        "print(\"b_1 =\", b_1)\n",
        "b_0 = y_rata2 - (b_1 * x_rata2)\n",
        "print(\"b_0 =\", b_0)"
      ],
      "execution_count": 2,
      "outputs": [
        {
          "output_type": "stream",
          "name": "stdout",
          "text": [
            "Rata-rata X: 5.0\n",
            "Rata-rata Y: 9.0\n",
            "Jumlah data(n): 9.0\n",
            "( 1 - 5.0 ) * ( 1 - 9.0 ) = 32.0\n",
            "( 1 - 5.0 ) ^2  = 16.0\n",
            "( 3 - 5.0 ) * ( 5 - 9.0 ) = 8.0\n",
            "( 3 - 5.0 ) ^2  = 4.0\n",
            "( 5 - 5.0 ) * ( 9 - 9.0 ) = 0.0\n",
            "( 5 - 5.0 ) ^2  = 0.0\n",
            "( 6 - 5.0 ) * ( 11 - 9.0 ) = 2.0\n",
            "( 6 - 5.0 ) ^2  = 1.0\n",
            "( 7 - 5.0 ) * ( 13 - 9.0 ) = 8.0\n",
            "( 7 - 5.0 ) ^2  = 4.0\n",
            "( 8 - 5.0 ) * ( 15 - 9.0 ) = 18.0\n",
            "( 8 - 5.0 ) ^2  = 9.0\n",
            "Pembilang = 68.0\n",
            "Penyebut = 34.0\n",
            "b_1 = 2.0\n",
            "b_0 = -1.0\n"
          ]
        }
      ]
    },
    {
      "cell_type": "code",
      "metadata": {
        "colab": {
          "base_uri": "https://localhost:8080/",
          "height": 279
        },
        "id": "4CYTaTS-TbTP",
        "outputId": "db3659ff-0625-422a-8383-23cb46212651"
      },
      "source": [
        "# Plot Nilai Data\n",
        "x_max = np.max(X_train)\n",
        "x_min = np.min(X_train)\n",
        "\n",
        "# Garis Regresi\n",
        "x = np.linspace(x_min, x_max, 1000)\n",
        "y = b_0 + b_1 * x\n",
        "\n",
        "# Plott Garis Regresi\n",
        "plt.plot(x, y, color='red', label='Regresi Linear')\n",
        "\n",
        "# Plot Titik Data\n",
        "plt.scatter(X_train, y_train, color='blue', label='Data')\n",
        "\n",
        "# Label sumbu\n",
        "plt.xlabel('X')\n",
        "\n",
        "# Label sumbu y\n",
        "plt.ylabel('Y')\n",
        "\n",
        "# Menampilkan Legenda\n",
        "plt.legend()\n",
        "\n",
        "# Menampilkan Gambar Hasil Plot\n",
        "plt.show()"
      ],
      "execution_count": 3,
      "outputs": [
        {
          "output_type": "display_data",
          "data": {
            "image/png": "[encoded data removed]",
            "text/plain": [
              "<Figure size 432x288 with 1 Axes>"
            ]
          },
          "metadata": {
            "needs_background": "light"
          }
        }
      ]
    },
    {
      "cell_type": "markdown",
      "metadata": {
        "id": "xGPfRacyTsV2"
      },
      "source": [
        "##Implementasi Model Regresi Linear Pada Data Real\n",
        "Kita akan menggunakan dataset yang berisi ukuran kepala dan berat organ otak."
      ]
    },
    {
      "cell_type": "code",
      "metadata": {
        "colab": {
          "base_uri": "https://localhost:8080/",
          "height": 221
        },
        "id": "SlxF6FAETm_X",
        "outputId": "ac127d4e-480b-4f73-a43e-74222c75ca04"
      },
      "source": [
        "dataset = pd.read_csv('https://raw.githubusercontent.com/jokoeliyanto/Channel-Hobi-Data/main/Model%20Machine%20Learning%20dari%20Dasar(From%20Scratch)%20Python/Dataset/dataset_regresi_linear.csv')\n",
        "# Melihat ukuran dataset\n",
        "print(dataset.shape)\n",
        "# Menampilkan 5 data teratas\n",
        "dataset.head()"
      ],
      "execution_count": 12,
      "outputs": [
        {
          "output_type": "stream",
          "name": "stdout",
          "text": [
            "(237, 4)\n"
          ]
        },
        {
          "output_type": "execute_result",
          "data": {
            "text/html": [
              "<div>\n",
              "<style scoped>\n",
              "    .dataframe tbody tr th:only-of-type {\n",
              "        vertical-align: middle;\n",
              "    }\n",
              "\n",
              "    .dataframe tbody tr th {\n",
              "        vertical-align: top;\n",
              "    }\n",
              "\n",
              "    .dataframe thead th {\n",
              "        text-align: right;\n",
              "    }\n",
              "</style>\n",
              "<table border=\"1\" class=\"dataframe\">\n",
              "  <thead>\n",
              "    <tr style=\"text-align: right;\">\n",
              "      <th></th>\n",
              "      <th>Gender</th>\n",
              "      <th>Age Range</th>\n",
              "      <th>Head Size(cm^3)</th>\n",
              "      <th>Brain Weight(grams)</th>\n",
              "    </tr>\n",
              "  </thead>\n",
              "  <tbody>\n",
              "    <tr>\n",
              "      <th>0</th>\n",
              "      <td>1</td>\n",
              "      <td>1</td>\n",
              "      <td>4512</td>\n",
              "      <td>1530</td>\n",
              "    </tr>\n",
              "    <tr>\n",
              "      <th>1</th>\n",
              "      <td>1</td>\n",
              "      <td>1</td>\n",
              "      <td>3738</td>\n",
              "      <td>1297</td>\n",
              "    </tr>\n",
              "    <tr>\n",
              "      <th>2</th>\n",
              "      <td>1</td>\n",
              "      <td>1</td>\n",
              "      <td>4261</td>\n",
              "      <td>1335</td>\n",
              "    </tr>\n",
              "    <tr>\n",
              "      <th>3</th>\n",
              "      <td>1</td>\n",
              "      <td>1</td>\n",
              "      <td>3777</td>\n",
              "      <td>1282</td>\n",
              "    </tr>\n",
              "    <tr>\n",
              "      <th>4</th>\n",
              "      <td>1</td>\n",
              "      <td>1</td>\n",
              "      <td>4177</td>\n",
              "      <td>1590</td>\n",
              "    </tr>\n",
              "  </tbody>\n",
              "</table>\n",
              "</div>"
            ],
            "text/plain": [
              "   Gender  Age Range  Head Size(cm^3)  Brain Weight(grams)\n",
              "0       1          1             4512                 1530\n",
              "1       1          1             3738                 1297\n",
              "2       1          1             4261                 1335\n",
              "3       1          1             3777                 1282\n",
              "4       1          1             4177                 1590"
            ]
          },
          "metadata": {},
          "execution_count": 12
        }
      ]
    },
    {
      "cell_type": "code",
      "metadata": {
        "id": "ajygmorTT16J"
      },
      "source": [
        "#Mencari hubungan antara data X(Ukuran Kepala) dan Y(Berat Organ Otak)\n",
        "\n",
        "# Definisikan Variabel Input(X) dan Output(Y)\n",
        "X = dataset['Head Size(cm^3)'].values.reshape(-1,1)\n",
        "Y = dataset['Brain Weight(grams)'].values.reshape(-1,1)"
      ],
      "execution_count": 13,
      "outputs": []
    },
    {
      "cell_type": "code",
      "metadata": {
        "id": "061UYBBQUVWt"
      },
      "source": [
        "# Membagi data menjadi data training dan data testing\n",
        "X_train, X_test, y_train, y_test = train_test_split(X, Y, test_size=0.2, random_state=0)"
      ],
      "execution_count": 14,
      "outputs": []
    },
    {
      "cell_type": "code",
      "metadata": {
        "colab": {
          "base_uri": "https://localhost:8080/"
        },
        "id": "PLsnSgF0UwgT",
        "outputId": "9dd25b46-4177-4ba3-9c22-54b5bfbbfbc0"
      },
      "source": [
        "# Proses Training Model\n",
        "\n",
        "# Menghitung rata-rata inputs and outputs\n",
        "x_rata2 = np.mean(X_train)\n",
        "y_rata2 = np.mean(y_train)\n",
        "\n",
        "# Jumlah data\n",
        "n = len(X_train)\n",
        "\n",
        "# Menuliskan formula untuk menghitung beta 0 dan beta 1\n",
        "A = 0\n",
        "B = 0\n",
        "for i in range(n):\n",
        "  A += (X_train[i] - x_rata2) * (y_train[i] - y_rata2)\n",
        "  B += (X_train[i] - x_rata2) ** 2\n",
        "\n",
        "b_1 = A / B\n",
        "b_0 = y_rata2 - (b_1 * x_rata2)\n",
        "\n",
        "# Menampilkan Koefisien Regresi Linear\n",
        "print(b_0, b_1)"
      ],
      "execution_count": 15,
      "outputs": [
        {
          "output_type": "stream",
          "name": "stdout",
          "text": [
            "[334.26127335] [0.26106902]\n"
          ]
        }
      ]
    },
    {
      "cell_type": "markdown",
      "metadata": {
        "id": "Ivk47PKRU9lU"
      },
      "source": [
        "Dalam notasi matematika, hasil ini dapat ditulis sebagai berikut:\n",
        "\n",
        "Brain weights = 334.26127335 + 0.26106902 * Head size\n",
        "\n",
        "Sekarang kita memiliki model linier. Mari kita plot secara grafis."
      ]
    },
    {
      "cell_type": "code",
      "metadata": {
        "colab": {
          "base_uri": "https://localhost:8080/",
          "height": 279
        },
        "id": "ptPgiwn_U7FE",
        "outputId": "5e651b1b-f974-4e4d-cd8d-5a4013c57ce2"
      },
      "source": [
        "# Plot Nilai Data\n",
        "x_max = np.max(X) + 100\n",
        "x_min = np.min(X) - 100\n",
        "\n",
        "# Garis Regresi\n",
        "x = np.linspace(x_min, x_max, 1000)\n",
        "y = b_0 + b_1 * x\n",
        "\n",
        "# Plott Garis Regresi\n",
        "plt.plot(x, y, color='red', label='Regresi Linear')\n",
        "\n",
        "# Plot Titik Data\n",
        "plt.scatter(X, Y, color='blue', label='Data')\n",
        "\n",
        "# Label sumbu\n",
        "plt.xlabel('Head Size (cm^3)')\n",
        "\n",
        "# Label sumbu y\n",
        "plt.ylabel('Brain Weight (grams)')\n",
        "\n",
        "# Menampilkan Legenda\n",
        "plt.legend()\n",
        "\n",
        "# Menampilkan Gambar Hasil Plot\n",
        "plt.show()"
      ],
      "execution_count": 16,
      "outputs": [
        {
          "output_type": "display_data",
          "data": {
            "image/png": "[encoded data removed]",
            "text/plain": [
              "<Figure size 432x288 with 1 Axes>"
            ]
          },
          "metadata": {
            "needs_background": "light"
          }
        }
      ]
    },
    {
      "cell_type": "markdown",
      "metadata": {
        "id": "tsxWRI0nVaB6"
      },
      "source": [
        "##Evaluasi Model\n",
        "Kita perlu mengukur tingkat ketepatan(akurasi) model yang telah diperoleh. Terdapat banyak metode untuk\n",
        "melakukan hal ini, namun pada artikel ini kita memilih menggunakan Root Mean Square Error dan Koefisien\n",
        "Determinasi (R Skor)\n",
        "\n",
        "![Screenshot (68).png](data:image/png;base64,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)\n",
        "\n",
        "yi(topi) adalah nilai hasil prediksi ke-i. berikut penulisan rmse"
      ]
    },
    {
      "cell_type": "code",
      "metadata": {
        "colab": {
          "base_uri": "https://localhost:8080/"
        },
        "id": "JLK02GH5VJVH",
        "outputId": "395fe077-bb5e-4670-cbf0-bef29317b36e"
      },
      "source": [
        "rmse = 0\n",
        "for i in range(len(X_test)):\n",
        "  y_pred= b_0 + b_1* X_test[i]\n",
        "  rmse += (y_test[i] - y_pred) ** 2\n",
        "  \n",
        "rmse = np.sqrt(rmse/n)\n",
        "print(rmse)"
      ],
      "execution_count": 17,
      "outputs": [
        {
          "output_type": "stream",
          "name": "stdout",
          "text": [
            "[36.34269155]\n"
          ]
        }
      ]
    },
    {
      "cell_type": "markdown",
      "metadata": {
        "id": "E05holzKWGMv"
      },
      "source": [
        "Selanjutnya, mari kita hitung nilai skor untuk mengukur tingkat akurasi dari model linear yang diperoleh,\n",
        "secara matematis dituliskan sebagai berikut:\n",
        "\n",
        "![Screenshot (67).png](data:image/png;base64,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)\n",
        "\n",
        "SSE adalah jumlah kuadrat galat sedangkan SST jumlah kuadrat total.\n",
        "\n",
        "R^2 skor biasanya memiliki nilai antara 0 hingga 1. Nilai ini juga bisa bernilai negatif jika model regresi benar-\n",
        "benar salah. Di bawah ini adalah kode pemrograman untuk menghitung R^2 skor"
      ]
    },
    {
      "cell_type": "code",
      "metadata": {
        "colab": {
          "base_uri": "https://localhost:8080/"
        },
        "id": "9z-T6SnjWRlX",
        "outputId": "bce5c0d9-62da-4e8e-a812-f59f53acd082"
      },
      "source": [
        "SST = 0\n",
        "SSE = 0\n",
        "y_pred= b_0 + b_1*X_test\n",
        "y_rata2 = np.mean(y_test)\n",
        "for i in range(len(X_test)) :\n",
        "  SST += (y_test[i] - y_rata2) ** 2\n",
        "  SSE += (y_test[i] - y_pred[i]) **2\n",
        "  \n",
        "score = 1- (SSE/SST)\n",
        "print(\"Koefisien Determinasi:\", score)"
      ],
      "execution_count": 19,
      "outputs": [
        {
          "output_type": "stream",
          "name": "stdout",
          "text": [
            "Koefisien Determinasi: [0.63763642]\n"
          ]
        }
      ]
    }
  ]
}